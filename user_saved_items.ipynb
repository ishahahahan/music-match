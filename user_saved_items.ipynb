{
 "cells": [
  {
   "cell_type": "code",
   "execution_count": 1,
   "id": "fc12283b",
   "metadata": {},
   "outputs": [
    {
     "data": {
      "text/plain": [
       "True"
      ]
     },
     "execution_count": 1,
     "metadata": {},
     "output_type": "execute_result"
    }
   ],
   "source": [
    "import spotipy\n",
    "from spotipy.oauth2 import SpotifyOAuth\n",
    "from dotenv import load_dotenv\n",
    "import os\n",
    "\n",
    "load_dotenv()"
   ]
  },
  {
   "cell_type": "code",
   "execution_count": 2,
   "id": "1c069fad",
   "metadata": {},
   "outputs": [],
   "source": [
    "scope = \"user-library-read user-read-currently-playing app-remote-control user-modify-playback-state user-read-playback-state user-read-recently-played playlist-read-private playlist-modify-public playlist-modify-private user-follow-read user-follow-modify user-top-read user-read-playback-position user-read-email user-read-private user-read-playback-position user-read-recently-played user-library-modify user-library-read playlist-read-collaborative user-read-private user-read-email user-read-playback-state user-modify-playback-state user-read-currently-playing user-read-recently-played user-library-modify user-library-read user-follow-read user-follow-modify user-top-read playlist-read-private playlist-modify-public playlist-modify-private playlist-read-collaborative\"\n",
    "\n",
    "sp = spotipy.Spotify(auth_manager=SpotifyOAuth(\n",
    "    client_id=os.getenv(\"CLIENT_ID\"),\n",
    "    client_secret=os.getenv(\"CLIENT_SECRET\"),\n",
    "    redirect_uri=os.getenv(\"REDIRECT_URI\"),\n",
    "    scope=scope\n",
    "    ),\n",
    "    requests_timeout=20\n",
    ")"
   ]
  },
  {
   "cell_type": "markdown",
   "id": "7baf77a4",
   "metadata": {},
   "source": [
    "### **Current User Saved Tracks**\n",
    "#### Response:\n",
    "- Added at\n",
    "- Track:\n",
    "    - Track ID\n",
    "    - Track Name\n",
    "    - Track Artists (object)\n",
    "    - Track Album (object)\n",
    "    - Track Popularity\n",
    "- Artists:\n",
    "    - Artist ID\n",
    "    - Artist Name\n",
    "- Album:\n",
    "    - Album ID\n",
    "    - Album Name\n",
    "- Popularity\n",
    "\n"
   ]
  },
  {
   "cell_type": "code",
   "execution_count": null,
   "id": "66798066",
   "metadata": {},
   "outputs": [],
   "source": [
    "tracks = sp.current_user_saved_tracks(limit=50)\n",
    "for idx, item in enumerate(tracks['items']):\n",
    "    print(\"Track: \",item['track']['name'], '--', item['track']['id'])\n",
    "    print(\"Artists: \",[(artist['name'], artist['id'] )for artist in item['track']['artists']])\n",
    "    print(\"Album: \",item['track']['album']['name'], '--', item['track']['album']['id'])\n",
    "    print(\"Popularity:\", item['track']['popularity'])\n",
    "    print(\"Added at: \",item['added_at'])\n",
    "    print()\n",
    "    \n"
   ]
  },
  {
   "cell_type": "markdown",
   "id": "6dee438b",
   "metadata": {},
   "source": [
    "### **Current User Saved Albums**\n",
    "#### Response: (array of objects)\n",
    "- Added at\n",
    "- Album\n",
    "    - Album ID\n",
    "    - Album Name\n",
    "    - Album Type\n",
    "    - Release Date\n",
    "    - Artists (array of objects)\n",
    "        - Artist ID\n",
    "        - Artist Name\n",
    "        - Artist Type\n",
    "    \n",
    "    - Tracks (array of objects)\n",
    "        - Track ID\n",
    "        - Track Name\n",
    "        - Track Popularity\n",
    "        - Track Duration\n",
    "        - Track Explicit\n",
    "        - Track number\n",
    "    \n",
    "    - Popularity\n"
   ]
  },
  {
   "cell_type": "code",
   "execution_count": 8,
   "id": "5c9f584e",
   "metadata": {},
   "outputs": [
    {
     "name": "stdout",
     "output_type": "stream",
     "text": [
      "folklore (deluxe version)\n",
      "Taylor Swift\n",
      "2020-08-18\n",
      "17\n",
      "---------------------------------\n",
      "Hours Were the Birds\n",
      "Adrianne Lenker\n",
      "2014-01-09\n",
      "10\n",
      "---------------------------------\n",
      "SHAKTI\n",
      "Seedhe Maut\n",
      "2024-08-15\n",
      "4\n",
      "---------------------------------\n",
      "x (Deluxe Edition)\n",
      "Ed Sheeran\n",
      "2014-06-21\n",
      "16\n",
      "---------------------------------\n",
      "Midnights (The Til Dawn Edition)\n",
      "Taylor Swift\n",
      "2023-05-26\n",
      "23\n",
      "---------------------------------\n"
     ]
    }
   ],
   "source": [
    "tracks = sp.current_user_saved_albums(limit=5)\n",
    "for track in tracks['items']:\n",
    "    print(track['album']['name'])\n",
    "    print(track['album']['artists'][0]['name'])\n",
    "    print(track['album']['release_date'])\n",
    "    print(track['album']['total_tracks'])\n",
    "    print('---------------------------------')\n",
    "    "
   ]
  }
 ],
 "metadata": {
  "kernelspec": {
   "display_name": "Python 3",
   "language": "python",
   "name": "python3"
  },
  "language_info": {
   "codemirror_mode": {
    "name": "ipython",
    "version": 3
   },
   "file_extension": ".py",
   "mimetype": "text/x-python",
   "name": "python",
   "nbconvert_exporter": "python",
   "pygments_lexer": "ipython3",
   "version": "3.10.11"
  }
 },
 "nbformat": 4,
 "nbformat_minor": 5
}
