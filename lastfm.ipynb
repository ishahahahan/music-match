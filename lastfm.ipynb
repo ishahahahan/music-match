{
 "cells": [
  {
   "cell_type": "code",
   "execution_count": 13,
   "id": "6fb147d3",
   "metadata": {},
   "outputs": [],
   "source": [
    "import http\n",
    "import requests"
   ]
  },
  {
   "cell_type": "code",
   "execution_count": 14,
   "id": "61570425",
   "metadata": {},
   "outputs": [],
   "source": [
    "API_KEY = \"3a13f138ccc8df77f51f39f2ab0b3116\""
   ]
  },
  {
   "cell_type": "code",
   "execution_count": 25,
   "id": "461e2cfd",
   "metadata": {},
   "outputs": [
    {
     "name": "stdout",
     "output_type": "stream",
     "text": [
      "{'Hurry Up Tomorrow': ['2025', 'synthwave', 'alternative rnb', 'synthpop', 'alt-pop', 'pop', 'electropop', 'XOTWOD', 'electronic', 'rnb']}\n"
     ]
    }
   ],
   "source": [
    "artist = \"The Weeknd\"\n",
    "album = \"Hurry Up Tomorrow\"\n",
    "\n",
    "url = \"https://ws.audioscrobbler.com/2.0\"\n",
    "\n",
    "params = {\n",
    "    \"method\": \"album.gettoptags\",\n",
    "    \"artist\": artist,\n",
    "    \"album\": album,\n",
    "    \"api_key\": API_KEY,\n",
    "    \"format\": \"json\"\n",
    "}\n",
    "\n",
    "response = requests.get(url, params=params)\n",
    "\n",
    "data = response.json()\n",
    "tag_list = data['toptags']['tag']\n",
    "artist_tag = {}\n",
    "taglist = []\n",
    "\n",
    "for tag in tag_list:\n",
    "    taglist.append(tag['name'])\n",
    "\n",
    "artist_tag[album] = taglist\n",
    "print(artist_tag)\n"
   ]
  },
  {
   "cell_type": "code",
   "execution_count": 27,
   "id": "8f9490a8",
   "metadata": {},
   "outputs": [
    {
     "name": "stdout",
     "output_type": "stream",
     "text": [
      "Fuzzy match: ('alternative', 85)\n",
      "Fuzzy match: ('synthwave', 59)\n",
      "Fuzzy match: ('latin pop', 75)\n",
      "Fuzzy match: ('electronic', 70)\n",
      "Fuzzy match: ('motown', 50)\n",
      "Filtered genre:  ['synthwave', 'alternative rock', 'synthpop', 'alt-pop', 'pop', 'electropop', 'electronic', 'rnb']\n"
     ]
    }
   ],
   "source": [
    "from lastfm import GenreExtractor\n",
    "\n",
    "extractor = GenreExtractor()\n",
    "retrieved_tags = taglist\n",
    "genres = extractor.extract_genres(retrieved_tags)\n",
    "\n",
    "print(\"Filtered genre: \", genres)"
   ]
  }
 ],
 "metadata": {
  "kernelspec": {
   "display_name": "Python 3",
   "language": "python",
   "name": "python3"
  },
  "language_info": {
   "codemirror_mode": {
    "name": "ipython",
    "version": 3
   },
   "file_extension": ".py",
   "mimetype": "text/x-python",
   "name": "python",
   "nbconvert_exporter": "python",
   "pygments_lexer": "ipython3",
   "version": "3.10.11"
  }
 },
 "nbformat": 4,
 "nbformat_minor": 5
}
